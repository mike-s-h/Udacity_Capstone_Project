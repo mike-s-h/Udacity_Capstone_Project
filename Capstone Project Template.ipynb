{
 "cells": [
  {
   "cell_type": "markdown",
   "metadata": {
    "editable": true
   },
   "source": [
    "# Data Engineering Capstone Project\n",
    "\n",
    "#### Project Summary\n",
    "In this project, 3 data sources are processed that show information about:\n",
    "- the count of immigration in April of 2016 to the United States Of America\n",
    "- the demographic ratio of female, male and veterans in the respective state in the month of immigration\n",
    "- the average airport elevation in feet of the respective state\n",
    "\n",
    "The project follows the follow steps:\n",
    "* Step 1: Scope the Project and Gather Data\n",
    "* Step 2: Explore and Assess the Data\n",
    "* Step 3: Define the Data Model\n",
    "* Step 4: Run ETL to Model the Data\n",
    "* Step 5: Complete Project Write Up"
   ]
  },
  {
   "cell_type": "code",
   "execution_count": 1,
   "metadata": {
    "editable": true
   },
   "outputs": [],
   "source": [
    "# installing pyspark when using a new Udacity workspace\n",
    "#!pip install pyspark"
   ]
  },
  {
   "cell_type": "code",
   "execution_count": 1,
   "metadata": {
    "editable": true
   },
   "outputs": [],
   "source": [
    "import configparser\n",
    "import pandas as pd\n",
    "import os\n",
    "import glob\n",
    "from pyspark.sql import SparkSession, SQLContext, GroupedData\n",
    "from pyspark.sql.functions import *\n",
    "from I94_codes import I94COUNTRY_codes, I94COUNTRY_udf, I94PORT_codes, I94PORT_udf\n",
    "from US_cities import state_udf, cities_states"
   ]
  },
  {
   "cell_type": "code",
   "execution_count": 2,
   "metadata": {
    "editable": true
   },
   "outputs": [
    {
     "data": {
      "text/plain": [
       "['dl.cfg']"
      ]
     },
     "execution_count": 2,
     "metadata": {},
     "output_type": "execute_result"
    }
   ],
   "source": [
    "config = configparser.ConfigParser()\n",
    "config.read('dl.cfg')"
   ]
  },
  {
   "cell_type": "markdown",
   "metadata": {
    "editable": true
   },
   "source": [
    "#### creating spark session"
   ]
  },
  {
   "cell_type": "code",
   "execution_count": 3,
   "metadata": {
    "editable": true
   },
   "outputs": [
    {
     "name": "stdout",
     "output_type": "stream",
     "text": [
      "Spark session created ...\n"
     ]
    }
   ],
   "source": [
    "spark = SparkSession.builder.\\\n",
    "config(\"spark.jars.repositories\", \"https://repos.spark-packages.org/\").\\\n",
    "config(\"spark.jars.packages\", \"saurfang:spark-sas7bdat:2.0.0-s_2.11\").\\\n",
    "enableHiveSupport().getOrCreate()\n",
    "print('Spark session created ...')"
   ]
  },
  {
   "cell_type": "code",
   "execution_count": 4,
   "metadata": {
    "editable": true
   },
   "outputs": [],
   "source": [
    "#Build SQL context object\n",
    "sqlContext = SQLContext(spark)"
   ]
  },
  {
   "cell_type": "markdown",
   "metadata": {
    "editable": true
   },
   "source": [
    "### Step 1: Scope the Project and Gather Data"
   ]
  },
  {
   "cell_type": "markdown",
   "metadata": {
    "editable": true
   },
   "source": [
    "#### Scope \n",
    "Data from various sources are used also fact and dimension tables are created to show the development of immigration.\n",
    "#### Describe and Gather Data "
   ]
  },
  {
   "cell_type": "markdown",
   "metadata": {
    "editable": true
   },
   "source": [
    "1 - I94 Immigration Data: comes from the U.S. National Tourism and Trade Office and contains various statistics on international visitor arrival in USA and comes from the US National Tourism and Trade Office. \n",
    "    The dataset contains data from 2016.\n",
    "2 - World Temperature Data: comes from Kaggle and contains average weather temperatures by city.\n",
    "3 - U.S. City Demographic Data: comes from OpenSoft and contains information about the demographics of all US cities such as average age, male and female population.\n",
    "4 - Airport Code Table: This is a simple table of airport codes and corresponding cities."
   ]
  },
  {
   "cell_type": "code",
   "execution_count": 6,
   "metadata": {
    "editable": true
   },
   "outputs": [],
   "source": [
    "# Reads all Data from all Sources\n",
    "I94_df = spark.read.format('com.github.saurfang.sas.spark').load(config['SOURCE_PATH']['I94_DATA'])\n",
    "TEMP_df = spark.read.format(\"csv\").option(\"header\", \"true\").load(config['SOURCE_PATH']['TEMP_DATA'])\n",
    "DEMO_df = spark.read.format(\"csv\").option(\"header\", \"true\").option(\"delimiter\", \";\").load(config['SOURCE_PATH']['DEMO_DATA'])\n",
    "AIRPORT_df = spark.read.format(\"csv\").option(\"header\", \"true\").load(config['SOURCE_PATH']['AIRPORT_DATA'])"
   ]
  },
  {
   "cell_type": "markdown",
   "metadata": {
    "editable": true
   },
   "source": [
    "### Step 2: Explore and Assess the Data\n",
    "#### Explore the Data \n",
    "Identify data quality issues, like missing values, duplicate data, etc.\n",
    "\n",
    "#### Cleaning Steps\n",
    "I94 Immigration Data:\n",
    "- filtering nulls of state codes and aiport codes\n",
    "- transform country codes to country of origin\n",
    "- select important columns and drop duplicates\n",
    "\n",
    "World Temperature Data:\n",
    "- ordering year descending\n",
    "- no data from 2016 are available. \n",
    "  Further processing is not possible with the immigration data from 2016.\n",
    "  The temperature data will not be processed further.\n",
    "\n",
    "U.S. City Demographic Data:\n",
    "- ordering demographic data\n",
    "- calculating percentages \n",
    "- drop duplicates\n",
    "\n",
    "Airport Code Data:\n",
    "- filtering US airports !=closed\n",
    "- splitting iso-region into state codes\n",
    "- calculating percanteges of airport elevation in feet"
   ]
  },
  {
   "cell_type": "markdown",
   "metadata": {
    "editable": true
   },
   "source": [
    "### I94 Immigration Data"
   ]
  },
  {
   "cell_type": "code",
   "execution_count": 7,
   "metadata": {
    "editable": true
   },
   "outputs": [
    {
     "name": "stdout",
     "output_type": "stream",
     "text": [
      "+-----+------+------+------+------+-------+-------+-------+-------+-------+------+-------+-----+--------+--------+-----+-------+-------+-------+-------+-------+--------+------+------+-------+--------------+-----+--------+\n",
      "|cicid| i94yr|i94mon|i94cit|i94res|i94port|arrdate|i94mode|i94addr|depdate|i94bir|i94visa|count|dtadfile|visapost|occup|entdepa|entdepd|entdepu|matflag|biryear| dtaddto|gender|insnum|airline|        admnum|fltno|visatype|\n",
      "+-----+------+------+------+------+-------+-------+-------+-------+-------+------+-------+-----+--------+--------+-----+-------+-------+-------+-------+-------+--------+------+------+-------+--------------+-----+--------+\n",
      "|  6.0|2016.0|   4.0| 692.0| 692.0|    XXX|20573.0|   null|   null|   null|  37.0|    2.0|  1.0|    null|    null| null|      T|   null|      U|   null| 1979.0|10282016|  null|  null|   null| 1.897628485E9| null|      B2|\n",
      "|  7.0|2016.0|   4.0| 254.0| 276.0|    ATL|20551.0|    1.0|     AL|   null|  25.0|    3.0|  1.0|20130811|     SEO| null|      G|   null|      Y|   null| 1991.0|     D/S|     M|  null|   null|  3.73679633E9|00296|      F1|\n",
      "| 15.0|2016.0|   4.0| 101.0| 101.0|    WAS|20545.0|    1.0|     MI|20691.0|  55.0|    2.0|  1.0|20160401|    null| null|      T|      O|   null|      M| 1961.0|09302016|     M|  null|     OS|  6.66643185E8|   93|      B2|\n",
      "| 16.0|2016.0|   4.0| 101.0| 101.0|    NYC|20545.0|    1.0|     MA|20567.0|  28.0|    2.0|  1.0|20160401|    null| null|      O|      O|   null|      M| 1988.0|09302016|  null|  null|     AA|9.246846133E10|00199|      B2|\n",
      "| 17.0|2016.0|   4.0| 101.0| 101.0|    NYC|20545.0|    1.0|     MA|20567.0|   4.0|    2.0|  1.0|20160401|    null| null|      O|      O|   null|      M| 2012.0|09302016|  null|  null|     AA|9.246846313E10|00199|      B2|\n",
      "+-----+------+------+------+------+-------+-------+-------+-------+-------+------+-------+-----+--------+--------+-----+-------+-------+-------+-------+-------+--------+------+------+-------+--------------+-----+--------+\n",
      "only showing top 5 rows\n",
      "\n"
     ]
    }
   ],
   "source": [
    "I94_df.show(5)"
   ]
  },
  {
   "cell_type": "code",
   "execution_count": 8,
   "metadata": {
    "editable": true
   },
   "outputs": [
    {
     "name": "stdout",
     "output_type": "stream",
     "text": [
      "+-----+------+------+------+------+-------+-------+-------+-------+-------+------+-------+-----+--------+--------+-----+-------+-------+-------+-------+-------+--------+------+------+-------+--------------+-----+--------+\n",
      "|cicid| i94yr|i94mon|i94cit|i94res|i94port|arrdate|i94mode|i94addr|depdate|i94bir|i94visa|count|dtadfile|visapost|occup|entdepa|entdepd|entdepu|matflag|biryear| dtaddto|gender|insnum|airline|        admnum|fltno|visatype|\n",
      "+-----+------+------+------+------+-------+-------+-------+-------+-------+------+-------+-----+--------+--------+-----+-------+-------+-------+-------+-------+--------+------+------+-------+--------------+-----+--------+\n",
      "|  6.0|2016.0|   4.0| 692.0| 692.0|    XXX|20573.0|   null|   null|   null|  37.0|    2.0|  1.0|    null|    null| null|      T|   null|      U|   null| 1979.0|10282016|  null|  null|   null| 1.897628485E9| null|      B2|\n",
      "|  7.0|2016.0|   4.0| 254.0| 276.0|    ATL|20551.0|    1.0|     AL|   null|  25.0|    3.0|  1.0|20130811|     SEO| null|      G|   null|      Y|   null| 1991.0|     D/S|     M|  null|   null|  3.73679633E9|00296|      F1|\n",
      "| 15.0|2016.0|   4.0| 101.0| 101.0|    WAS|20545.0|    1.0|     MI|20691.0|  55.0|    2.0|  1.0|20160401|    null| null|      T|      O|   null|      M| 1961.0|09302016|     M|  null|     OS|  6.66643185E8|   93|      B2|\n",
      "| 16.0|2016.0|   4.0| 101.0| 101.0|    NYC|20545.0|    1.0|     MA|20567.0|  28.0|    2.0|  1.0|20160401|    null| null|      O|      O|   null|      M| 1988.0|09302016|  null|  null|     AA|9.246846133E10|00199|      B2|\n",
      "| 17.0|2016.0|   4.0| 101.0| 101.0|    NYC|20545.0|    1.0|     MA|20567.0|   4.0|    2.0|  1.0|20160401|    null| null|      O|      O|   null|      M| 2012.0|09302016|  null|  null|     AA|9.246846313E10|00199|      B2|\n",
      "+-----+------+------+------+------+-------+-------+-------+-------+-------+------+-------+-----+--------+--------+-----+-------+-------+-------+-------+-------+--------+------+------+-------+--------------+-----+--------+\n",
      "only showing top 5 rows\n",
      "\n"
     ]
    }
   ],
   "source": [
    "I94_df.orderBy(\"i94yr\", ascending=False).show(5)"
   ]
  },
  {
   "cell_type": "code",
   "execution_count": 9,
   "metadata": {
    "editable": true
   },
   "outputs": [],
   "source": [
    "IE94Filter=I94_df.filter(I94_df.i94addr.isNotNull())\\\n",
    "                .filter(I94_df.i94res.isNotNull())\\\n",
    "                .filter(col(\"i94port\").isin(list(I94PORT_codes.keys())))\\\n",
    "                .withColumn(\"origin_country\",I94COUNTRY_udf(I94_df[\"i94res\"]))\\\n",
    "                .withColumn(\"i94yr\",col(\"i94yr\").cast(\"integer\"))\\\n",
    "                .withColumn(\"i94mon\",col(\"i94mon\").cast(\"integer\"))\\\n",
    "                .withColumn(\"city_dest_airport\",I94PORT_udf(I94_df[\"i94port\"]))"
   ]
  },
  {
   "cell_type": "code",
   "execution_count": 10,
   "metadata": {
    "editable": true
   },
   "outputs": [],
   "source": [
    "CLEAN_I94_df=IE94Filter.select('cicid',col(\"i94yr\").alias(\"year\"),col(\"i94mon\").alias(\"month\"),\\\n",
    "                             \"origin_country\",col(\"i94addr\").alias(\"state_code\"),\"i94port\",\"city_dest_airport\")"
   ]
  },
  {
   "cell_type": "code",
   "execution_count": 11,
   "metadata": {
    "editable": true
   },
   "outputs": [
    {
     "name": "stdout",
     "output_type": "stream",
     "text": [
      "+-----+----+-----+--------------+----------+-------+--------------------+\n",
      "|cicid|year|month|origin_country|state_code|i94port|   city_dest_airport|\n",
      "+-----+----+-----+--------------+----------+-------+--------------------+\n",
      "|  7.0|2016|    4|   SOUTH KOREA|        AL|    ATL|  ATLANTA           |\n",
      "| 15.0|2016|    4|       ALBANIA|        MI|    WAS|WASHINGTON DC    ...|\n",
      "| 16.0|2016|    4|       ALBANIA|        MA|    NYC|  NEW YORK          |\n",
      "| 17.0|2016|    4|       ALBANIA|        MA|    NYC|  NEW YORK          |\n",
      "| 18.0|2016|    4|       ALBANIA|        MI|    NYC|  NEW YORK          |\n",
      "+-----+----+-----+--------------+----------+-------+--------------------+\n",
      "only showing top 5 rows\n",
      "\n"
     ]
    }
   ],
   "source": [
    "CLEAN_I94_df.show(5)"
   ]
  },
  {
   "cell_type": "markdown",
   "metadata": {
    "editable": true
   },
   "source": [
    "### World Temperature Data"
   ]
  },
  {
   "cell_type": "code",
   "execution_count": 12,
   "metadata": {
    "editable": true
   },
   "outputs": [
    {
     "name": "stdout",
     "output_type": "stream",
     "text": [
      "+----------+------------------+-----------------------------+-----+-------+--------+---------+\n",
      "|        dt|AverageTemperature|AverageTemperatureUncertainty| City|Country|Latitude|Longitude|\n",
      "+----------+------------------+-----------------------------+-----+-------+--------+---------+\n",
      "|1743-11-01|             6.068|           1.7369999999999999|Århus|Denmark|  57.05N|   10.33E|\n",
      "|1743-12-01|              null|                         null|Århus|Denmark|  57.05N|   10.33E|\n",
      "|1744-01-01|              null|                         null|Århus|Denmark|  57.05N|   10.33E|\n",
      "|1744-02-01|              null|                         null|Århus|Denmark|  57.05N|   10.33E|\n",
      "|1744-03-01|              null|                         null|Århus|Denmark|  57.05N|   10.33E|\n",
      "+----------+------------------+-----------------------------+-----+-------+--------+---------+\n",
      "only showing top 5 rows\n",
      "\n"
     ]
    }
   ],
   "source": [
    "TEMP_df.show(5)"
   ]
  },
  {
   "cell_type": "code",
   "execution_count": 13,
   "metadata": {
    "editable": true
   },
   "outputs": [],
   "source": [
    "# filter World Temperature Data for the U.S. only\n",
    "# drop duplicates\n",
    "TEMPFilter=TEMP_df.filter(TEMP_df['country']=='United States')\\\n",
    "                  .filter(col(\"City\").isin(list(cities_states.keys())))\\\n",
    "                .withColumn('year',year(TEMP_df['dt']))\\\n",
    "                .withColumn('month',month(TEMP_df['dt']))\\\n",
    "                .withColumn(\"State\",state_udf(TEMP_df[\"City\"]))\\\n",
    "                .orderBy(\"State\")"
   ]
  },
  {
   "cell_type": "code",
   "execution_count": 14,
   "metadata": {
    "editable": true
   },
   "outputs": [],
   "source": [
    "CLEAN_TEMP_df=TEMPFilter.select('year','month',round(col('AverageTemperature'),1).alias('avg_temp'),\\\n",
    "                                   'City','State','Country').dropDuplicates()"
   ]
  },
  {
   "cell_type": "code",
   "execution_count": 15,
   "metadata": {
    "editable": true
   },
   "outputs": [
    {
     "name": "stdout",
     "output_type": "stream",
     "text": [
      "+----+-----+--------+----------+-------+-------------+\n",
      "|year|month|avg_temp|      City|  State|      Country|\n",
      "+----+-----+--------+----------+-------+-------------+\n",
      "|1743|   11|    10.6|Birmingham|Alabama|United States|\n",
      "|1743|   12|    null|Birmingham|Alabama|United States|\n",
      "|1744|    1|    null|Birmingham|Alabama|United States|\n",
      "|1744|    2|    null|Birmingham|Alabama|United States|\n",
      "|1744|    3|    null|Birmingham|Alabama|United States|\n",
      "+----+-----+--------+----------+-------+-------------+\n",
      "only showing top 5 rows\n",
      "\n"
     ]
    }
   ],
   "source": [
    "CLEAN_TEMP_df.show(5)"
   ]
  },
  {
   "cell_type": "code",
   "execution_count": 16,
   "metadata": {
    "editable": true
   },
   "outputs": [],
   "source": [
    "NEW_TEMP_df=CLEAN_TEMP_df.groupBy('year','month', 'State').avg('avg_temp').orderBy('State')"
   ]
  },
  {
   "cell_type": "code",
   "execution_count": 17,
   "metadata": {
    "editable": true
   },
   "outputs": [
    {
     "name": "stdout",
     "output_type": "stream",
     "text": [
      "+----+-----+-------+-----------------+\n",
      "|year|month|  State|    avg(avg_temp)|\n",
      "+----+-----+-------+-----------------+\n",
      "|1743|   11|Alabama|9.866666666666667|\n",
      "|1743|   12|Alabama|             null|\n",
      "|1744|    1|Alabama|             null|\n",
      "|1744|    2|Alabama|             null|\n",
      "|1744|    3|Alabama|             null|\n",
      "+----+-----+-------+-----------------+\n",
      "only showing top 5 rows\n",
      "\n"
     ]
    }
   ],
   "source": [
    "NEW_TEMP_df.show(5)"
   ]
  },
  {
   "cell_type": "code",
   "execution_count": 18,
   "metadata": {
    "editable": true
   },
   "outputs": [],
   "source": [
    "RESULT_TEMP_df=NEW_TEMP_df.select('year', 'month', 'State', \\\n",
    "                                    round(col('avg(avg_temp)'),1).alias('avg_temp'))"
   ]
  },
  {
   "cell_type": "code",
   "execution_count": 19,
   "metadata": {
    "editable": true
   },
   "outputs": [
    {
     "name": "stdout",
     "output_type": "stream",
     "text": [
      "+----+-----+-------+--------+\n",
      "|year|month|  State|avg_temp|\n",
      "+----+-----+-------+--------+\n",
      "|2013|    1|Alabama|     9.8|\n",
      "|2013|    6|Alabama|    26.1|\n",
      "|2013|    2|Alabama|     8.8|\n",
      "|2013|    3|Alabama|    10.0|\n",
      "|2013|    4|Alabama|    16.9|\n",
      "+----+-----+-------+--------+\n",
      "only showing top 5 rows\n",
      "\n"
     ]
    }
   ],
   "source": [
    "RESULT_TEMP_df.orderBy(\"year\", ascending=False).show(5)"
   ]
  },
  {
   "cell_type": "markdown",
   "metadata": {
    "editable": true
   },
   "source": [
    "##### Weather data are only available up to the year 2013. \n",
    "##### A processing for the immigration data from the year 2016 is therefore not possible. \n",
    "##### The data source is therefore excluded from the integration."
   ]
  },
  {
   "cell_type": "markdown",
   "metadata": {
    "editable": true
   },
   "source": [
    "### U.S. City Demographic Data"
   ]
  },
  {
   "cell_type": "markdown",
   "metadata": {
    "editable": true
   },
   "source": [
    "##### Please note: Due to the genetic diversity of people I disagree with the division of people into races. \n",
    "##### I do not consider the column \"races\" in the table of demographic data for further processing for this reason. Thank you for your understanding."
   ]
  },
  {
   "cell_type": "code",
   "execution_count": 20,
   "metadata": {
    "editable": true
   },
   "outputs": [
    {
     "name": "stdout",
     "output_type": "stream",
     "text": [
      "+----------------+-------------+----------+---------------+-----------------+----------------+------------------+------------+----------------------+----------+--------------------+-----+\n",
      "|            City|        State|Median Age|Male Population|Female Population|Total Population|Number of Veterans|Foreign-born|Average Household Size|State Code|                Race|Count|\n",
      "+----------------+-------------+----------+---------------+-----------------+----------------+------------------+------------+----------------------+----------+--------------------+-----+\n",
      "|   Silver Spring|     Maryland|      33.8|          40601|            41862|           82463|              1562|       30908|                   2.6|        MD|  Hispanic or Latino|25924|\n",
      "|          Quincy|Massachusetts|      41.0|          44129|            49500|           93629|              4147|       32935|                  2.39|        MA|               White|58723|\n",
      "|          Hoover|      Alabama|      38.5|          38040|            46799|           84839|              4819|        8229|                  2.58|        AL|               Asian| 4759|\n",
      "|Rancho Cucamonga|   California|      34.5|          88127|            87105|          175232|              5821|       33878|                  3.18|        CA|Black or African-...|24437|\n",
      "|          Newark|   New Jersey|      34.6|         138040|           143873|          281913|              5829|       86253|                  2.73|        NJ|               White|76402|\n",
      "+----------------+-------------+----------+---------------+-----------------+----------------+------------------+------------+----------------------+----------+--------------------+-----+\n",
      "only showing top 5 rows\n",
      "\n"
     ]
    }
   ],
   "source": [
    "DEMO_df.show(5)"
   ]
  },
  {
   "cell_type": "code",
   "execution_count": 21,
   "metadata": {
    "editable": true
   },
   "outputs": [],
   "source": [
    "DEMOFilter=DEMO_df\\\n",
    "        .withColumn(\"Median Age\",col(\"Median Age\").cast(\"float\"))\\\n",
    "        .withColumn(\"pct_male_pop\",DEMO_df[\"Male Population\"]/DEMO_df[\"Total Population\"]*100)\\\n",
    "        .withColumn(\"pct_female_pop\",DEMO_df[\"Female Population\"]/DEMO_df[\"Total Population\"]*100)\\\n",
    "        .withColumn(\"pct_veterans\",DEMO_df[\"Number of Veterans\"]/DEMO_df[\"Total Population\"]*100)\\\n",
    "        .withColumn(\"pct_foreign_born\",DEMO_df[\"Foreign-born\"]/DEMO_df[\"Total Population\"]*100)\\\n",
    "        .orderBy(\"State\")"
   ]
  },
  {
   "cell_type": "code",
   "execution_count": 22,
   "metadata": {
    "editable": true
   },
   "outputs": [],
   "source": [
    "CLEAN_DEMO_df=DEMOFilter.select('State',\\\n",
    "                                col('State Code').alias('state_code'),\\\n",
    "                               \n",
    "                                col('Total Population').alias('total_pop'),\\\n",
    "                                 col('Median Age').alias('median_age'),\\\n",
    "                                'pct_male_pop','pct_female_pop', 'pct_veterans','pct_foreign_born')"
   ]
  },
  {
   "cell_type": "code",
   "execution_count": 23,
   "metadata": {
    "editable": true
   },
   "outputs": [
    {
     "name": "stdout",
     "output_type": "stream",
     "text": [
      "+-------+----------+---------+----------+------------------+------------------+-----------------+------------------+\n",
      "|  State|state_code|total_pop|median_age|      pct_male_pop|    pct_female_pop|     pct_veterans|  pct_foreign_born|\n",
      "+-------+----------+---------+----------+------------------+------------------+-----------------+------------------+\n",
      "|Alabama|        AL|   189114|      38.1| 48.52311304292649| 51.47688695707351|8.797339171081992| 6.710767050562094|\n",
      "|Alabama|        AL|    98338|      29.1| 48.09229392503407| 51.90770607496593|3.708637556183774| 4.785535601700258|\n",
      "|Alabama|        AL|    67536|      38.9|47.636815920398014|52.363184079601986|9.378701729447998| 2.515695332859512|\n",
      "|Alabama|        AL|   200586|      35.4| 47.15284217243477| 52.84715782756524|7.455654931052018|4.6548612565184015|\n",
      "|Alabama|        AL|    67536|      38.9|47.636815920398014|52.363184079601986|9.378701729447998| 2.515695332859512|\n",
      "+-------+----------+---------+----------+------------------+------------------+-----------------+------------------+\n",
      "only showing top 5 rows\n",
      "\n"
     ]
    }
   ],
   "source": [
    "CLEAN_DEMO_df.show(5)"
   ]
  },
  {
   "cell_type": "code",
   "execution_count": 24,
   "metadata": {
    "editable": true
   },
   "outputs": [],
   "source": [
    "NEW_CLEAN_DEMO_df=CLEAN_DEMO_df.groupBy(\"State\",'state_code').avg('median_age',\"pct_male_pop\",\"pct_female_pop\", \"pct_veterans\",\"pct_foreign_born\").orderBy('State')"
   ]
  },
  {
   "cell_type": "code",
   "execution_count": 25,
   "metadata": {
    "editable": true
   },
   "outputs": [
    {
     "name": "stdout",
     "output_type": "stream",
     "text": [
      "+----------+----------+-----------------+------------------+-------------------+-----------------+---------------------+\n",
      "|     State|state_code|  avg(median_age)| avg(pct_male_pop)|avg(pct_female_pop)|avg(pct_veterans)|avg(pct_foreign_born)|\n",
      "+----------+----------+-----------------+------------------+-------------------+-----------------+---------------------+\n",
      "|   Alabama|        AL|36.16176476198084| 47.31893411899914|  52.68106588100086| 6.79067568450305|      4.9988281961214|\n",
      "|    Alaska|        AK|32.20000076293945|51.204405832036024| 48.795594167963976|9.204037563400794|   11.134434791342338|\n",
      "|   Arizona|        AZ|35.03750014305115| 48.80588472481988| 51.194115275180124|6.605226419604703|   12.641983065857145|\n",
      "|  Arkansas|        AR|32.73793049516349| 48.43811311257044|  51.56188688742957|5.172062842819985|   10.948156422255321|\n",
      "|California|        CA|36.17396435935117| 49.35197598832696|  50.64802401167306|4.134256546024143|    27.57416715942217|\n",
      "+----------+----------+-----------------+------------------+-------------------+-----------------+---------------------+\n",
      "only showing top 5 rows\n",
      "\n"
     ]
    }
   ],
   "source": [
    "NEW_CLEAN_DEMO_df.show(5)"
   ]
  },
  {
   "cell_type": "code",
   "execution_count": 26,
   "metadata": {
    "editable": true
   },
   "outputs": [],
   "source": [
    "RESULT_DEMO_df=NEW_CLEAN_DEMO_df.select('State','state_code',\\\n",
    "                                    round(col('avg(median_age)'),1).alias('avg_median_age'),\\\n",
    "                                    round(col('avg(pct_male_pop)'),1).alias('avg_male_pop'),\\\n",
    "                                    round(col('avg(pct_female_pop)'),1).alias('avg_female_pop'),\\\n",
    "                                    round(col('avg(pct_veterans)'),1).alias('avg_veterans'),\\\n",
    "                                    round(col('avg(pct_foreign_born)'),1).alias('avg_foreign_born'))"
   ]
  },
  {
   "cell_type": "code",
   "execution_count": 27,
   "metadata": {
    "editable": true
   },
   "outputs": [
    {
     "name": "stdout",
     "output_type": "stream",
     "text": [
      "+----------+----------+--------------+------------+--------------+------------+----------------+\n",
      "|     State|state_code|avg_median_age|avg_male_pop|avg_female_pop|avg_veterans|avg_foreign_born|\n",
      "+----------+----------+--------------+------------+--------------+------------+----------------+\n",
      "|   Alabama|        AL|          36.2|        47.3|          52.7|         6.8|             5.0|\n",
      "|    Alaska|        AK|          32.2|        51.2|          48.8|         9.2|            11.1|\n",
      "|   Arizona|        AZ|          35.0|        48.8|          51.2|         6.6|            12.6|\n",
      "|  Arkansas|        AR|          32.7|        48.4|          51.6|         5.2|            10.9|\n",
      "|California|        CA|          36.2|        49.4|          50.6|         4.1|            27.6|\n",
      "+----------+----------+--------------+------------+--------------+------------+----------------+\n",
      "only showing top 5 rows\n",
      "\n"
     ]
    }
   ],
   "source": [
    "RESULT_DEMO_df.show(5)"
   ]
  },
  {
   "cell_type": "markdown",
   "metadata": {
    "editable": true
   },
   "source": [
    "### Airport Code Table"
   ]
  },
  {
   "cell_type": "code",
   "execution_count": 28,
   "metadata": {
    "editable": true
   },
   "outputs": [
    {
     "name": "stdout",
     "output_type": "stream",
     "text": [
      "+-----+-------------+--------------------+------------+---------+-----------+----------+------------+--------+---------+----------+--------------------+\n",
      "|ident|         type|                name|elevation_ft|continent|iso_country|iso_region|municipality|gps_code|iata_code|local_code|         coordinates|\n",
      "+-----+-------------+--------------------+------------+---------+-----------+----------+------------+--------+---------+----------+--------------------+\n",
      "|  00A|     heliport|   Total Rf Heliport|          11|       NA|         US|     US-PA|    Bensalem|     00A|     null|       00A|-74.9336013793945...|\n",
      "| 00AA|small_airport|Aero B Ranch Airport|        3435|       NA|         US|     US-KS|       Leoti|    00AA|     null|      00AA|-101.473911, 38.7...|\n",
      "| 00AK|small_airport|        Lowell Field|         450|       NA|         US|     US-AK|Anchor Point|    00AK|     null|      00AK|-151.695999146, 5...|\n",
      "| 00AL|small_airport|        Epps Airpark|         820|       NA|         US|     US-AL|     Harvest|    00AL|     null|      00AL|-86.7703018188476...|\n",
      "| 00AR|       closed|Newport Hospital ...|         237|       NA|         US|     US-AR|     Newport|    null|     null|      null| -91.254898, 35.6087|\n",
      "+-----+-------------+--------------------+------------+---------+-----------+----------+------------+--------+---------+----------+--------------------+\n",
      "only showing top 5 rows\n",
      "\n"
     ]
    }
   ],
   "source": [
    "AIRPORT_df.show(5)"
   ]
  },
  {
   "cell_type": "code",
   "execution_count": 29,
   "metadata": {
    "editable": true
   },
   "outputs": [],
   "source": [
    "AIRPORTFilter=AIRPORT_df.filter(AIRPORT_df['type']!='closed')\\\n",
    "                        .filter(AIRPORT_df['iso_country']=='US')\\\n",
    "                        .withColumn('iso_region',substring(AIRPORT_df['iso_region'],4,2))\\\n",
    "                        .withColumn('elevation_ft',col('elevation_ft').cast('float'))"
   ]
  },
  {
   "cell_type": "code",
   "execution_count": 30,
   "metadata": {
    "editable": true
   },
   "outputs": [],
   "source": [
    "NEW_AIRPORT_df=AIRPORTFilter.groupBy('iso_country','iso_region').avg('elevation_ft')"
   ]
  },
  {
   "cell_type": "code",
   "execution_count": 31,
   "metadata": {
    "editable": true
   },
   "outputs": [],
   "source": [
    "CLEAN_AIRPORT_df=NEW_AIRPORT_df.select(col(\"iso_country\").alias(\"country\"),\\\n",
    "                                               col(\"iso_region\").alias(\"state_code\"),\\\n",
    "                                               round(col(\"avg(elevation_ft)\"),1).alias(\"avg_elevation_ft\")).orderBy(\"iso_region\")"
   ]
  },
  {
   "cell_type": "code",
   "execution_count": 32,
   "metadata": {
    "editable": true
   },
   "outputs": [
    {
     "name": "stdout",
     "output_type": "stream",
     "text": [
      "+-------+----------+----------------+\n",
      "|country|state_code|avg_elevation_ft|\n",
      "+-------+----------+----------------+\n",
      "|     US|        AK|           449.7|\n",
      "|     US|        AL|           434.2|\n",
      "|     US|        AR|           511.6|\n",
      "|     US|        AZ|          2722.1|\n",
      "|     US|        CA|          1051.1|\n",
      "|     US|        CO|          6220.5|\n",
      "|     US|        CT|           333.5|\n",
      "|     US|        DC|           185.2|\n",
      "|     US|        DE|            84.0|\n",
      "|     US|        FL|            70.1|\n",
      "|     US|        GA|           677.0|\n",
      "|     US|        HI|           714.1|\n",
      "|     US|        IA|          1020.8|\n",
      "|     US|        ID|          3780.1|\n",
      "|     US|        IL|           676.2|\n",
      "|     US|        IN|           760.7|\n",
      "|     US|        KS|          1564.8|\n",
      "|     US|        KY|           759.4|\n",
      "|     US|        LA|            67.9|\n",
      "|     US|        MA|           259.3|\n",
      "+-------+----------+----------------+\n",
      "only showing top 20 rows\n",
      "\n"
     ]
    }
   ],
   "source": [
    "CLEAN_AIRPORT_df.show(20)"
   ]
  },
  {
   "cell_type": "markdown",
   "metadata": {
    "editable": true
   },
   "source": [
    "### Step 3: Define the Data Model\n",
    "#### 3.1 Conceptual Data Model\n",
    "Due to simplicity, the following star scheme is used\n",
    "\n",
    "![title](Capstone_Schema.png)"
   ]
  },
  {
   "cell_type": "markdown",
   "metadata": {
    "editable": true
   },
   "source": [
    "#### I94 Immigration Data"
   ]
  },
  {
   "cell_type": "code",
   "execution_count": 33,
   "metadata": {
    "editable": true
   },
   "outputs": [
    {
     "name": "stdout",
     "output_type": "stream",
     "text": [
      "root\n",
      " |-- cicid: double (nullable = true)\n",
      " |-- year: integer (nullable = true)\n",
      " |-- month: integer (nullable = true)\n",
      " |-- origin_country: string (nullable = true)\n",
      " |-- state_code: string (nullable = true)\n",
      " |-- i94port: string (nullable = true)\n",
      " |-- city_dest_airport: string (nullable = true)\n",
      "\n"
     ]
    }
   ],
   "source": [
    "CLEAN_I94_df.printSchema()"
   ]
  },
  {
   "cell_type": "markdown",
   "metadata": {
    "editable": true
   },
   "source": [
    "#### U.S. City Demographic Data"
   ]
  },
  {
   "cell_type": "code",
   "execution_count": 34,
   "metadata": {
    "editable": true
   },
   "outputs": [
    {
     "name": "stdout",
     "output_type": "stream",
     "text": [
      "root\n",
      " |-- State: string (nullable = true)\n",
      " |-- state_code: string (nullable = true)\n",
      " |-- avg_median_age: double (nullable = true)\n",
      " |-- avg_male_pop: double (nullable = true)\n",
      " |-- avg_female_pop: double (nullable = true)\n",
      " |-- avg_veterans: double (nullable = true)\n",
      " |-- avg_foreign_born: double (nullable = true)\n",
      "\n"
     ]
    }
   ],
   "source": [
    "RESULT_DEMO_df.printSchema()"
   ]
  },
  {
   "cell_type": "markdown",
   "metadata": {
    "editable": true
   },
   "source": [
    "#### Airport Code Table"
   ]
  },
  {
   "cell_type": "code",
   "execution_count": 35,
   "metadata": {
    "editable": true
   },
   "outputs": [
    {
     "name": "stdout",
     "output_type": "stream",
     "text": [
      "root\n",
      " |-- country: string (nullable = true)\n",
      " |-- state_code: string (nullable = true)\n",
      " |-- avg_elevation_ft: double (nullable = true)\n",
      "\n"
     ]
    }
   ],
   "source": [
    "CLEAN_AIRPORT_df.printSchema()"
   ]
  },
  {
   "cell_type": "markdown",
   "metadata": {
    "editable": true
   },
   "source": [
    "#### 3.2 Mapping Out Data Pipelines\n",
    "These following steps are necessary to pipeline the data into the chosen data model:\n",
    "\n",
    "1. Creating three dimension tables I94_Data, DEMO_Data, AIRPORT_Data\n",
    "2. Creating the fact table I94_IMMIGRATION_DATA using SQL (SELECT and JOIN)\n",
    "3. Creating a new Spark Dataframe\n",
    "4. Writing the Dataframe into parquet files"
   ]
  },
  {
   "cell_type": "markdown",
   "metadata": {
    "editable": true
   },
   "source": [
    "### Step 4: Run Pipelines to Model the Data \n",
    "#### 4.1 Create the data model\n",
    "Build the data pipelines to create the data model."
   ]
  },
  {
   "cell_type": "code",
   "execution_count": 36,
   "metadata": {
    "editable": true
   },
   "outputs": [],
   "source": [
    "# creating the dimension tables\n",
    "CLEAN_I94_df.createOrReplaceTempView(\"I94_Data\")\n",
    "RESULT_DEMO_df.createOrReplaceTempView(\"DEMO_Data\")\n",
    "CLEAN_AIRPORT_df.createOrReplaceTempView(\"AIRPORT_Data\")"
   ]
  },
  {
   "cell_type": "code",
   "execution_count": 37,
   "metadata": {
    "editable": true
   },
   "outputs": [],
   "source": [
    "# creating the fact table\n",
    "I94_IMMIGRATION_DATA=spark.sql(\"\"\"\n",
    "                                SELECT \n",
    "                                    i.year AS year_of_immig, \n",
    "                                    i.month AS month_of_immig,\n",
    "                                    i.origin_country AS immig_from,\n",
    "                                    d.state AS immig_to_state, \n",
    "                                    COUNT(i.state_code) AS count_immigration,\n",
    "                                    i.state_code,\n",
    "                                    d.avg_median_age,\n",
    "                                    d.avg_female_pop,\n",
    "                                    d.avg_male_pop, \n",
    "                                    d.avg_veterans,\n",
    "                                    d.avg_foreign_born,\n",
    "                                    a.avg_elevation_ft AS avg_airport_elevation_ft  \n",
    "                                    \n",
    "                                   \n",
    "                                    FROM I94_Data i \n",
    "                                    JOIN DEMO_Data d ON d.state_code=i.state_code\n",
    "                                    JOIN AIRPORT_Data a ON a.state_code=d.state_code\n",
    "                                    \n",
    "                                                            \n",
    "                                    GROUP BY i.year,i.month,\\\n",
    "                                         i.origin_country,  d.state, i.state_code,\\\n",
    "                                         d.avg_median_age, d.avg_female_pop, d.avg_male_pop,\\\n",
    "                                         d.avg_veterans, d.avg_foreign_born, a.avg_elevation_ft\n",
    "                                         \n",
    "                                         \n",
    "                                    ORDER BY i.origin_country, i.state_code      \n",
    "                                \"\"\")"
   ]
  },
  {
   "cell_type": "code",
   "execution_count": 38,
   "metadata": {
    "editable": true
   },
   "outputs": [
    {
     "name": "stdout",
     "output_type": "stream",
     "text": [
      "root\n",
      " |-- year_of_immig: integer (nullable = true)\n",
      " |-- month_of_immig: integer (nullable = true)\n",
      " |-- immig_from: string (nullable = true)\n",
      " |-- immig_to_state: string (nullable = true)\n",
      " |-- count_immigration: long (nullable = false)\n",
      " |-- state_code: string (nullable = true)\n",
      " |-- avg_median_age: double (nullable = true)\n",
      " |-- avg_female_pop: double (nullable = true)\n",
      " |-- avg_male_pop: double (nullable = true)\n",
      " |-- avg_veterans: double (nullable = true)\n",
      " |-- avg_foreign_born: double (nullable = true)\n",
      " |-- avg_airport_elevation_ft: double (nullable = true)\n",
      "\n"
     ]
    }
   ],
   "source": [
    "I94_IMMIGRATION_DATA.printSchema()"
   ]
  },
  {
   "cell_type": "code",
   "execution_count": 39,
   "metadata": {
    "editable": true
   },
   "outputs": [
    {
     "name": "stdout",
     "output_type": "stream",
     "text": [
      "+-------------+--------------+-----------+--------------------+-----------------+----------+--------------+--------------+------------+------------+----------------+------------------------+\n",
      "|year_of_immig|month_of_immig| immig_from|      immig_to_state|count_immigration|state_code|avg_median_age|avg_female_pop|avg_male_pop|avg_veterans|avg_foreign_born|airport_avg_elevation_ft|\n",
      "+-------------+--------------+-----------+--------------------+-----------------+----------+--------------+--------------+------------+------------+----------------+------------------------+\n",
      "|         2016|             4|AFGHANISTAN|             Arizona|                1|        AZ|          35.0|          51.2|        48.8|         6.6|            12.6|                  2722.1|\n",
      "|         2016|             4|AFGHANISTAN|          California|               34|        CA|          36.2|          50.6|        49.4|         4.1|            27.6|                  1051.1|\n",
      "|         2016|             4|AFGHANISTAN|            Colorado|                3|        CO|          35.8|          50.6|        49.4|         6.2|             9.6|                  6220.5|\n",
      "|         2016|             4|AFGHANISTAN|District of Columbia|                9|        DC|          33.8|          52.4|        47.6|         3.9|            14.1|                   185.2|\n",
      "|         2016|             4|AFGHANISTAN|            Delaware|                1|        DE|          36.4|          54.6|        45.4|         4.3|             4.6|                    84.0|\n",
      "+-------------+--------------+-----------+--------------------+-----------------+----------+--------------+--------------+------------+------------+----------------+------------------------+\n",
      "only showing top 5 rows\n",
      "\n"
     ]
    }
   ],
   "source": [
    "# creating a new DataFrame\n",
    "I94_IMMIGRATION_DATA.toDF('year_of_immig', 'month_of_immig', 'immig_from',\\\n",
    "                          'immig_to_state', 'count_immigration', 'state_code', 'avg_median_age','avg_female_pop',\\\n",
    "                          'avg_male_pop', 'avg_veterans','avg_foreign_born','airport_avg_elevation_ft').show(5)"
   ]
  },
  {
   "cell_type": "code",
   "execution_count": 40,
   "metadata": {
    "editable": true
   },
   "outputs": [],
   "source": [
    "# writing fact table to parquet files\n",
    "I94_IMMIGRATION_DATA.write.parquet(\"I94_IMMIGRATION_DATA\")"
   ]
  },
  {
   "cell_type": "markdown",
   "metadata": {
    "editable": true
   },
   "source": [
    "#### 4.2 Data Quality Checks\n",
    "- searching for nulls in year_of_immig, month_of_immig, immig_from, immig_to_state\n",
    "- for the correctness of all 4 datasets a false must be returned\n",
    "- counting all immigrations in the fact table\n",
    "- counting all immigrations in the dimension table of I94 Immigration"
   ]
  },
  {
   "cell_type": "code",
   "execution_count": 41,
   "metadata": {
    "editable": true
   },
   "outputs": [
    {
     "name": "stdout",
     "output_type": "stream",
     "text": [
      "+-----+-----+-------+-----+\n",
      "| year|month|country|state|\n",
      "+-----+-----+-------+-----+\n",
      "|false|false|  false|false|\n",
      "+-----+-----+-------+-----+\n",
      "\n"
     ]
    }
   ],
   "source": [
    "# searching for nulls in year_of_immig, month_of_immig, immig_from, immig_to_state\n",
    "# for the correctness of all 4 datasets a false must be returned\n",
    "I94_IMMIGRATION_DATA.select(isnull('year_of_immig').alias('year'),\\\n",
    "                            isnull('month_of_immig').alias('month'),\\\n",
    "                            isnull('immig_from').alias('country'),\\\n",
    "                            isnull('immig_to_state').alias('state')).dropDuplicates().show()"
   ]
  },
  {
   "cell_type": "code",
   "execution_count": 42,
   "metadata": {
    "editable": true
   },
   "outputs": [
    {
     "name": "stdout",
     "output_type": "stream",
     "text": [
      "+--------+\n",
      "|count(1)|\n",
      "+--------+\n",
      "| 2940284|\n",
      "+--------+\n",
      "\n"
     ]
    }
   ],
   "source": [
    "# counting all immigrations in the fact table\n",
    "spark.sql('SELECT COUNT(*) FROM I94_Data').show()"
   ]
  },
  {
   "cell_type": "code",
   "execution_count": 43,
   "metadata": {
    "editable": true
   },
   "outputs": [
    {
     "name": "stdout",
     "output_type": "stream",
     "text": [
      "+------------+\n",
      "|CLEAN_I94_df|\n",
      "+------------+\n",
      "|     2940284|\n",
      "+------------+\n",
      "\n"
     ]
    }
   ],
   "source": [
    "# counting all immigrations in the dimension table of I94 Immigration\n",
    "CLEAN_I94_df.select(count('origin_country').alias('CLEAN_I94_df')).show()"
   ]
  },
  {
   "cell_type": "markdown",
   "metadata": {
    "editable": true
   },
   "source": [
    "#### 4.3 Data dictionary"
   ]
  },
  {
   "cell_type": "markdown",
   "metadata": {
    "editable": true
   },
   "source": [
    "##### Fact Table"
   ]
  },
  {
   "cell_type": "markdown",
   "metadata": {
    "editable": true
   },
   "source": [
    "I94_IMMIGRATION_DATA\n",
    " |-- year_of_immig: integer (nullable = true) | year of immigration from Immigration Data table\n",
    " |-- month_of_immig: integer (nullable = true) | month of immigration from Immigration Data table\n",
    " |-- immig_from: string (nullable = true) | country of origin from Immigration Data table\n",
    " |-- immig_to_state: string (nullable = true) | US state Code of immigration from Immigration Data table\n",
    " |-- count_immigration: long (nullable = false) | Count of immigrations\n",
    " |-- state_code: string (nullable = true) | US state code of immigration from Immigration Data table\n",
    " |-- avg_median_age: double (nullable = true) | average of median age in US state from Demographic Data table\n",
    " |-- avg_female_pop: double (nullable = true) | average % of female population of US state  from Demographic Data table\n",
    " |-- avg_male_pop: double (nullable = true) | average % of male population of US state from Demographic Data table\n",
    " |-- avg_veterans: double (nullable = true) | average % of veterans of US state from Demographic Data table\n",
    " |-- avg_foreign_born: double (nullable = true) | average % of foreign born population of US state from Demographic Data table\n",
    " |-- avg_airport_elevation_ft: double (nullable = true) | average elevation in feet of airport location of US state from Aiport Data table"
   ]
  },
  {
   "cell_type": "markdown",
   "metadata": {
    "editable": true
   },
   "source": [
    "##### Dimension tables"
   ]
  },
  {
   "cell_type": "markdown",
   "metadata": {
    "editable": true
   },
   "source": [
    "I94 Immigration Data table\n",
    " |-- cicid: double (nullable = true)\n",
    " |-- year: integer (nullable = true) | year of immigration\n",
    " |-- month: integer (nullable = true) | month of immigration\n",
    " |-- origin_country: string (nullable = true) | country of origin\n",
    " |-- state_code: string (nullable = true) | US state Code\n",
    " |-- i94port: string (nullable = true) | City Port Code of Immigration\n",
    " |-- city_dest_airport: string (nullable = true) | City of destination Airport"
   ]
  },
  {
   "cell_type": "markdown",
   "metadata": {
    "editable": true
   },
   "source": [
    "U.S. City Demographic Data table\n",
    " |-- State: string (nullable = true) | US state Name\n",
    " |-- state_code: string (nullable = true) | US state Code\n",
    " |-- avg_median_age: double (nullable = true) | average of median age\n",
    " |-- avg_male_pop: double (nullable = true) | average % of male population\n",
    " |-- avg_female_pop: double (nullable = true) | average % of female population\n",
    " |-- avg_veterans: double (nullable = true) | average % of veterans\n",
    " |-- avg_foreign_born: double (nullable = true) | average % of foreign born"
   ]
  },
  {
   "cell_type": "markdown",
   "metadata": {
    "editable": true
   },
   "source": [
    "Airport Code table\n",
    " |-- country: string (nullable = true) | Airports in the United States\n",
    " |-- state_code: string (nullable = true) | US state Code\n",
    " |-- avg_elevation_ft: double (nullable = true) average elevation in feet of airport location"
   ]
  },
  {
   "cell_type": "markdown",
   "metadata": {
    "editable": true
   },
   "source": [
    "#### Step 5: Complete Project Write Up\n",
    "1. Clearly state the rationale for the choice of tools and technologies for the project.\n",
    "2. Propose how often the data should be updated and why.\n",
    "3. Write a description of how you would approach the problem differently under the following scenarios:\n",
    " * The data was increased by 100x.\n",
    " * The data populates a dashboard that must be updated on a daily basis by 7am every day.\n",
    " * The database needed to be accessed by 100+ people."
   ]
  },
  {
   "cell_type": "markdown",
   "metadata": {
    "editable": true
   },
   "source": [
    "1.) For a small amount of data, Spark was used for fast reading, processing, output and analysis.\n",
    "2.) All data should be provided monthly by agencies and organizations.\n",
    "3.) - For a 100x data set I would use Hadoop to create a distributed processing system for faster processing.\n",
    "    - For a daily update I would use Airflow. For a structured update for all data, this can be used to create a schedule.\n",
    "    - For more than 100 data access I would use a web application (GUI). Amazon AWS is suitable for this."
   ]
  }
 ],
 "metadata": {
  "kernelspec": {
   "display_name": "Python 3",
   "language": "python",
   "name": "python3"
  },
  "language_info": {
   "codemirror_mode": {
    "name": "ipython",
    "version": 3
   },
   "file_extension": ".py",
   "mimetype": "text/x-python",
   "name": "python",
   "nbconvert_exporter": "python",
   "pygments_lexer": "ipython3",
   "version": "3.6.3"
  }
 },
 "nbformat": 4,
 "nbformat_minor": 4
}
